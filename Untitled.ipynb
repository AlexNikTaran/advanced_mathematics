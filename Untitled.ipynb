{
 "cells": [
  {
   "cell_type": "code",
   "execution_count": 62,
   "metadata": {},
   "outputs": [
    {
     "name": "stdout",
     "output_type": "stream",
     "text": [
      "[[-0.85065081 -0.52573111]\n",
      " [-0.52573111  0.85065081]] [8.71337969 3.32821489] [[-0.59455781 -0.80405286]\n",
      " [ 0.80405286 -0.59455781]]\n"
     ]
    }
   ],
   "source": [
    "import numpy as np\n"
   ]
  },
  {
   "cell_type": "markdown",
   "metadata": {},
   "source": [
    "A. "
   ]
  },
  {
   "cell_type": "code",
   "execution_count": null,
   "metadata": {},
   "outputs": [],
   "source": [
    "A = np.array([[3,7],[5,2]])\n",
    "U,s,VT = np.linalg.svd(A)\n",
    "print(U, s, VT)"
   ]
  },
  {
   "cell_type": "code",
   "execution_count": 63,
   "metadata": {},
   "outputs": [
    {
     "name": "stdout",
     "output_type": "stream",
     "text": [
      "[[3. 7.]\n",
      " [5. 2.]]\n"
     ]
    }
   ],
   "source": [
    "Sigma = np.zeros((A.shape[0], A.shape[1]))\n",
    "Sigma[:A.shape[1], :A.shape[1]] = np.diag(s)\n",
    "print(U.dot(Sigma.dot(VT)))"
   ]
  },
  {
   "cell_type": "markdown",
   "metadata": {},
   "source": [
    "B. "
   ]
  },
  {
   "cell_type": "code",
   "execution_count": 64,
   "metadata": {},
   "outputs": [
    {
     "name": "stdout",
     "output_type": "stream",
     "text": [
      "[[-0.56667985  0.82277903  0.04368772]\n",
      " [-0.80674247 -0.54329657 -0.23236915]\n",
      " [-0.16745308 -0.16692366  0.97164601]] [4.34019342 2.41561763 0.57228713] [[-0.37175416 -0.72677875 -0.5775738 ]\n",
      " [-0.44982001 -0.40322372  0.79691442]\n",
      " [-0.81207192  0.5560605  -0.17701953]]\n"
     ]
    }
   ],
   "source": [
    "A = np.array([[0,1,3],[2,3,1],[0,1,0]]) #B=[0 1 3 2 3 1 0 1 0] \n",
    "U,s,VT = np.linalg.svd(A)\n",
    "print(U, s, VT)"
   ]
  },
  {
   "cell_type": "code",
   "execution_count": 65,
   "metadata": {},
   "outputs": [
    {
     "name": "stdout",
     "output_type": "stream",
     "text": [
      "[[ 2.98283596e-16  1.00000000e+00  3.00000000e+00]\n",
      " [ 2.00000000e+00  3.00000000e+00  1.00000000e+00]\n",
      " [-5.54560735e-17  1.00000000e+00  5.45823575e-17]]\n"
     ]
    }
   ],
   "source": [
    "Sigma = np.zeros((A.shape[0], A.shape[1]))\n",
    "Sigma[:A.shape[1], :A.shape[1]] = np.diag(s)\n",
    "print(U.dot(Sigma.dot(VT)))"
   ]
  },
  {
   "cell_type": "markdown",
   "metadata": {},
   "source": [
    "C"
   ]
  },
  {
   "cell_type": "code",
   "execution_count": 66,
   "metadata": {},
   "outputs": [],
   "source": [
    "A = np.array([[5,7,6,4],[2,1,3,4],[1,3,3,4],[4,5,4,1]]) #C=[5 7 6 4 2 1 3 4 1 3 3 4 5 4 1]\n",
    "U,s,VT = np.linalg.svd(A)"
   ]
  },
  {
   "cell_type": "code",
   "execution_count": null,
   "metadata": {},
   "outputs": [],
   "source": []
  }
 ],
 "metadata": {
  "kernelspec": {
   "display_name": "Python 3",
   "language": "python",
   "name": "python3"
  },
  "language_info": {
   "codemirror_mode": {
    "name": "ipython",
    "version": 3
   },
   "file_extension": ".py",
   "mimetype": "text/x-python",
   "name": "python",
   "nbconvert_exporter": "python",
   "pygments_lexer": "ipython3",
   "version": "3.7.0"
  }
 },
 "nbformat": 4,
 "nbformat_minor": 2
}
